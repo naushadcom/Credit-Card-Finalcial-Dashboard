{
 "cells": [
  {
   "cell_type": "code",
   "execution_count": 1,
   "id": "1a336b83-a7b3-4ba3-8fb1-bdd12cae5c50",
   "metadata": {},
   "outputs": [],
   "source": [
    "import warnings\n",
    "warnings.filterwarnings('ignore')"
   ]
  },
  {
   "cell_type": "code",
   "execution_count": 2,
   "id": "b751e4a0-3928-4540-9050-85c240ee3bc6",
   "metadata": {},
   "outputs": [
    {
     "name": "stdout",
     "output_type": "stream",
     "text": [
      "credit_card pushed to MySQL\n",
      "customer pushed to MySQL\n"
     ]
    }
   ],
   "source": [
    "# Step 1: Install necessary packages\n",
    "# !pip install pandas mysql-connector-python sqlalchemy\n",
    "\n",
    "# Step 2: Establish a connection to MySQL\n",
    "import mysql.connector\n",
    "from sqlalchemy import create_engine\n",
    "import pandas as pd\n",
    "\n",
    "# MySQL connection configuration\n",
    "config = {\n",
    "    'user': 'root',\n",
    "    'password': 'hpy.com',\n",
    "    'host': '127.0.0.1',  # e.g., '127.0.0.1' or 'localhost'\n",
    "    'database': 'masai',  # This can be any temporary name\n",
    "}\n",
    "\n",
    "# Connect to MySQL server\n",
    "conn = mysql.connector.connect(\n",
    "    user=config['user'],\n",
    "    password=config['password'],\n",
    "    host=config['host']\n",
    ")\n",
    "\n",
    "# Create a cursor object\n",
    "cursor = conn.cursor()\n",
    "\n",
    "# Step 3: Create the database\n",
    "database_name = 'ccdb'\n",
    "cursor.execute(f\"CREATE DATABASE IF NOT EXISTS {database_name}\")\n",
    "\n",
    "# Step 4: Connect to the newly created database using SQLAlchemy\n",
    "engine = create_engine(f\"mysql+mysqlconnector://{config['user']}:{config['password']}@{config['host']}/{database_name}\")\n",
    "\n",
    "# Load CSV files into DataFrames\n",
    "files = ['credit_card.csv','customer.csv']\n",
    "\n",
    "dfs = {}\n",
    "\n",
    "for file in files:\n",
    "    df_name = file.split('.')[0]\n",
    "    dfs[df_name] = pd.read_csv(file)\n",
    "\n",
    "# Push DataFrames to MySQL\n",
    "for df_name, df in dfs.items():\n",
    "    df.to_sql(name=df_name, con=engine, if_exists='replace', index=False)\n",
    "    print(f\"{df_name} pushed to MySQL\")\n",
    "\n",
    "# Close the cursor and connection\n",
    "cursor.close()\n",
    "conn.close()"
   ]
  }
 ],
 "metadata": {
  "kernelspec": {
   "display_name": "Python 3 (ipykernel)",
   "language": "python",
   "name": "python3"
  },
  "language_info": {
   "codemirror_mode": {
    "name": "ipython",
    "version": 3
   },
   "file_extension": ".py",
   "mimetype": "text/x-python",
   "name": "python",
   "nbconvert_exporter": "python",
   "pygments_lexer": "ipython3",
   "version": "3.11.7"
  }
 },
 "nbformat": 4,
 "nbformat_minor": 5
}
